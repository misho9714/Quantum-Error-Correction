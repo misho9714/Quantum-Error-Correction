{
 "cells": [
  {
   "cell_type": "code",
   "execution_count": 6,
   "id": "4805e1b1",
   "metadata": {},
   "outputs": [],
   "source": [
    "import stim, pymatching as pm, numpy as np\n",
    "from IPython.display import SVG\n",
    "import matplotlib.pyplot as plt"
   ]
  }
 ],
 "metadata": {
  "language_info": {
   "name": "python"
  }
 },
 "nbformat": 4,
 "nbformat_minor": 5
}
