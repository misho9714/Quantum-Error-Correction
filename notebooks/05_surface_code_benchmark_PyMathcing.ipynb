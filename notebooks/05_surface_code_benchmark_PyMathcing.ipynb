{
 "cells": [
  {
   "cell_type": "code",
   "execution_count": null,
   "id": "7b3967b4",
   "metadata": {},
   "outputs": [],
   "source": [
    "import stim, pymatching as pm, numpy as np\n",
    "from IPython.display import SVG\n",
    "import matplotlib.pyplot as plt\n",
    "\n",
    "def count_logical_errors(circuit: stim.Circuit, num_shots: int) -> int:\n",
    "    # Sample the circuit.\n",
    "    sampler = circuit.compile_detector_sampler()\n",
    "    detection_events, observable_flips = sampler.sample(num_shots, separate_observables=True)\n",
    "\n",
    "    # Configure a decoder using the circuit.\n",
    "    detector_error_model = circuit.detector_error_model(decompose_errors=True)\n",
    "    matcher = pm.Matching.from_detector_error_model(detector_error_model)\n",
    "\n",
    "    # Run the decoder.\n",
    "    predictions = matcher.decode_batch(detection_events)\n",
    "\n",
    "    # Count the mistakes.\n",
    "    num_errors = 0\n",
    "    for shot in range(num_shots):\n",
    "        actual_for_shot = observable_flips[shot]\n",
    "        predicted_for_shot = predictions[shot]\n",
    "        if not np.array_equal(actual_for_shot, predicted_for_shot):\n",
    "            num_errors += 1\n",
    "    return num_errors"
   ]
  },
  {
   "cell_type": "code",
   "execution_count": null,
   "id": "173ac8a4",
   "metadata": {},
   "outputs": [],
   "source": [
    "num_shots = 100_000\n",
    "num_logical_errors = count_logical_errors(c, num_shots)\n",
    "print(\"there were\", num_logical_errors, \"wrong predictions (logical errors) out of\", num_shots, \"shots. p_L =\", round(num_logical_errors / num_shots * 100, 5), \"%\")"
   ]
  }
 ],
 "metadata": {
  "language_info": {
   "name": "python"
  }
 },
 "nbformat": 4,
 "nbformat_minor": 5
}
