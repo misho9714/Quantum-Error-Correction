{
 "cells": [
  {
   "cell_type": "code",
   "execution_count": 14,
   "id": "ac56f554",
   "metadata": {},
   "outputs": [
    {
     "ename": "ImportError",
     "evalue": "cannot import name 'distance_d_repetition_code' from 'src' (c:\\Users\\msokh\\Quantum-Error-Correction\\src\\__init__.py)",
     "output_type": "error",
     "traceback": [
      "\u001b[31m---------------------------------------------------------------------------\u001b[39m",
      "\u001b[31mImportError\u001b[39m                               Traceback (most recent call last)",
      "\u001b[36mCell\u001b[39m\u001b[36m \u001b[39m\u001b[32mIn[14]\u001b[39m\u001b[32m, line 7\u001b[39m\n\u001b[32m      5\u001b[39m \u001b[38;5;28;01mimport\u001b[39;00m\u001b[38;5;250m \u001b[39m\u001b[34;01mos\u001b[39;00m\n\u001b[32m      6\u001b[39m sys.path.append(os.path.abspath(\u001b[33m\"\u001b[39m\u001b[33m..\u001b[39m\u001b[33m\"\u001b[39m))  \u001b[38;5;66;03m# add project root\u001b[39;00m\n\u001b[32m----> \u001b[39m\u001b[32m7\u001b[39m \u001b[38;5;28;01mfrom\u001b[39;00m\u001b[38;5;250m \u001b[39m\u001b[34;01msrc\u001b[39;00m\u001b[38;5;250m \u001b[39m\u001b[38;5;28;01mimport\u001b[39;00m distance_d_repetition_code, collect_stats\n\u001b[32m     13\u001b[39m \u001b[38;5;66;03m# One detailed run\u001b[39;00m\n\u001b[32m     14\u001b[39m out = distance_d_repetition_code(distance=\u001b[32m9\u001b[39m, rounds=\u001b[32m20\u001b[39m, noise=\u001b[32m0.05\u001b[39m)\n",
      "\u001b[31mImportError\u001b[39m: cannot import name 'distance_d_repetition_code' from 'src' (c:\\Users\\msokh\\Quantum-Error-Correction\\src\\__init__.py)"
     ]
    }
   ],
   "source": [
    "import stim\n",
    "import numpy as np\n",
    "from IPython.display import SVG\n",
    "import sys\n",
    "import os\n",
    "sys.path.append(os.path.abspath(\"..\"))  # add project root\n",
    "from src import distance_d_repetition_code, collect_stats\n",
    "\n",
    "\n",
    "\n",
    "\n",
    "\n",
    "# One detailed run\n",
    "out = distance_d_repetition_code(distance=9, rounds=20, noise=0.05)\n",
    "display(out[\"SVG\"])\n",
    "print(out[\"raw_logical\"], out[\"corrected_logical\"])\n"
   ]
  }
 ],
 "metadata": {
  "kernelspec": {
   "display_name": "Python 3",
   "language": "python",
   "name": "python3"
  },
  "language_info": {
   "codemirror_mode": {
    "name": "ipython",
    "version": 3
   },
   "file_extension": ".py",
   "mimetype": "text/x-python",
   "name": "python",
   "nbconvert_exporter": "python",
   "pygments_lexer": "ipython3",
   "version": "3.11.9"
  }
 },
 "nbformat": 4,
 "nbformat_minor": 5
}
