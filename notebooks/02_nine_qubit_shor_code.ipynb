{
 "cells": [
  {
   "cell_type": "code",
   "execution_count": null,
   "id": "5637351b",
   "metadata": {},
   "outputs": [
    {
     "data": {
      "image/svg+xml": [
       "<svg xmlns=\"http://www.w3.org/2000/svg\" viewBox=\"0 0 416 672\" version=\"1.1\">\n",
       "<g id=\"qubit_lines\">\n",
       "<path id=\"qubit_line:0\" d=\"M64,64 L384,64 \" stroke=\"black\"/>\n",
       "<text dominant-baseline=\"central\" text-anchor=\"end\" font-family=\"monospace\" font-size=\"12\" x=\"64\" y=\"64\">q0</text>\n",
       "<path id=\"qubit_line:1\" d=\"M64,128 L384,128 \" stroke=\"black\"/>\n",
       "<text dominant-baseline=\"central\" text-anchor=\"end\" font-family=\"monospace\" font-size=\"12\" x=\"64\" y=\"128\">q1</text>\n",
       "<path id=\"qubit_line:2\" d=\"M64,192 L384,192 \" stroke=\"black\"/>\n",
       "<text dominant-baseline=\"central\" text-anchor=\"end\" font-family=\"monospace\" font-size=\"12\" x=\"64\" y=\"192\">q2</text>\n",
       "<path id=\"qubit_line:3\" d=\"M64,256 L384,256 \" stroke=\"black\"/>\n",
       "<text dominant-baseline=\"central\" text-anchor=\"end\" font-family=\"monospace\" font-size=\"12\" x=\"64\" y=\"256\">q3</text>\n",
       "<path id=\"qubit_line:4\" d=\"M64,320 L384,320 \" stroke=\"black\"/>\n",
       "<text dominant-baseline=\"central\" text-anchor=\"end\" font-family=\"monospace\" font-size=\"12\" x=\"64\" y=\"320\">q4</text>\n",
       "<path id=\"qubit_line:5\" d=\"M64,384 L384,384 \" stroke=\"black\"/>\n",
       "<text dominant-baseline=\"central\" text-anchor=\"end\" font-family=\"monospace\" font-size=\"12\" x=\"64\" y=\"384\">q5</text>\n",
       "<path id=\"qubit_line:6\" d=\"M64,448 L384,448 \" stroke=\"black\"/>\n",
       "<text dominant-baseline=\"central\" text-anchor=\"end\" font-family=\"monospace\" font-size=\"12\" x=\"64\" y=\"448\">q6</text>\n",
       "<path id=\"qubit_line:7\" d=\"M64,512 L384,512 \" stroke=\"black\"/>\n",
       "<text dominant-baseline=\"central\" text-anchor=\"end\" font-family=\"monospace\" font-size=\"12\" x=\"64\" y=\"512\">q7</text>\n",
       "<path id=\"qubit_line:8\" d=\"M64,576 L384,576 \" stroke=\"black\"/>\n",
       "<text dominant-baseline=\"central\" text-anchor=\"end\" font-family=\"monospace\" font-size=\"12\" x=\"64\" y=\"576\">q8</text>\n",
       "</g>\n",
       "<path d=\"M96,64 L96,256 \" stroke=\"black\"/>\n",
       "<circle cx=\"96\" cy=\"64\" r=\"12\" stroke=\"none\" fill=\"black\"/>\n",
       "<circle cx=\"96\" cy=\"256\" r=\"12\" stroke=\"black\" fill=\"white\"/>\n",
       "<path d=\"M84,256 L108,256 M96,244 L96,268 \" stroke=\"black\"/>\n",
       "<path d=\"M160,64 L160,448 \" stroke=\"black\"/>\n",
       "<circle cx=\"160\" cy=\"64\" r=\"12\" stroke=\"none\" fill=\"black\"/>\n",
       "<circle cx=\"160\" cy=\"448\" r=\"12\" stroke=\"black\" fill=\"white\"/>\n",
       "<path d=\"M148,448 L172,448 M160,436 L160,460 \" stroke=\"black\"/>\n",
       "<rect x=\"208\" y=\"48\" width=\"32\" height=\"32\" stroke=\"black\" fill=\"white\"/>\n",
       "<text dominant-baseline=\"central\" text-anchor=\"middle\" font-family=\"monospace\" font-size=\"30\" x=\"224\" y=\"64\">H</text>\n",
       "<rect x=\"208\" y=\"240\" width=\"32\" height=\"32\" stroke=\"black\" fill=\"white\"/>\n",
       "<text dominant-baseline=\"central\" text-anchor=\"middle\" font-family=\"monospace\" font-size=\"30\" x=\"224\" y=\"256\">H</text>\n",
       "<rect x=\"208\" y=\"432\" width=\"32\" height=\"32\" stroke=\"black\" fill=\"white\"/>\n",
       "<text dominant-baseline=\"central\" text-anchor=\"middle\" font-family=\"monospace\" font-size=\"30\" x=\"224\" y=\"448\">H</text>\n",
       "<path d=\"M288,64 L288,128 \" stroke=\"black\"/>\n",
       "<circle cx=\"288\" cy=\"64\" r=\"12\" stroke=\"none\" fill=\"black\"/>\n",
       "<circle cx=\"288\" cy=\"128\" r=\"12\" stroke=\"black\" fill=\"white\"/>\n",
       "<path d=\"M276,128 L300,128 M288,116 L288,140 \" stroke=\"black\"/>\n",
       "<path d=\"M288,256 L288,320 \" stroke=\"black\"/>\n",
       "<circle cx=\"288\" cy=\"256\" r=\"12\" stroke=\"none\" fill=\"black\"/>\n",
       "<circle cx=\"288\" cy=\"320\" r=\"12\" stroke=\"black\" fill=\"white\"/>\n",
       "<path d=\"M276,320 L300,320 M288,308 L288,332 \" stroke=\"black\"/>\n",
       "<path d=\"M288,448 L288,512 \" stroke=\"black\"/>\n",
       "<circle cx=\"288\" cy=\"448\" r=\"12\" stroke=\"none\" fill=\"black\"/>\n",
       "<circle cx=\"288\" cy=\"512\" r=\"12\" stroke=\"black\" fill=\"white\"/>\n",
       "<path d=\"M276,512 L300,512 M288,500 L288,524 \" stroke=\"black\"/>\n",
       "<path d=\"M352,64 L352,192 \" stroke=\"black\"/>\n",
       "<circle cx=\"352\" cy=\"64\" r=\"12\" stroke=\"none\" fill=\"black\"/>\n",
       "<circle cx=\"352\" cy=\"192\" r=\"12\" stroke=\"black\" fill=\"white\"/>\n",
       "<path d=\"M340,192 L364,192 M352,180 L352,204 \" stroke=\"black\"/>\n",
       "<path d=\"M352,256 L352,384 \" stroke=\"black\"/>\n",
       "<circle cx=\"352\" cy=\"256\" r=\"12\" stroke=\"none\" fill=\"black\"/>\n",
       "<circle cx=\"352\" cy=\"384\" r=\"12\" stroke=\"black\" fill=\"white\"/>\n",
       "<path d=\"M340,384 L364,384 M352,372 L352,396 \" stroke=\"black\"/>\n",
       "<path d=\"M352,448 L352,576 \" stroke=\"black\"/>\n",
       "<circle cx=\"352\" cy=\"448\" r=\"12\" stroke=\"none\" fill=\"black\"/>\n",
       "<circle cx=\"352\" cy=\"576\" r=\"12\" stroke=\"black\" fill=\"white\"/>\n",
       "<path d=\"M340,576 L364,576 M352,564 L352,588 \" stroke=\"black\"/>\n",
       "</svg>"
      ],
      "text/plain": [
       "<IPython.core.display.SVG object>"
      ]
     },
     "execution_count": 10,
     "metadata": {},
     "output_type": "execute_result"
    }
   ],
   "source": [
    "import stim\n",
    "import numpy as np\n",
    "from IPython.display import SVG, display, Math\n",
    "import matplotlib.pyplot as plt\n",
    "from typing import Counter\n",
    "import sys, os; sys.path.append(os.path.abspath(\"..\"))\n",
    "\n",
    "# --- Parameters ---\n",
    "chance = 0.3\n",
    "\n",
    "# --- Build circuit (|0_L> for the 9-qubit Shor code) ---\n",
    "circuit = stim.Circuit()\n",
    "circuit.append(\"CNOT\", [0, 3])\n",
    "circuit.append(\"CNOT\", [0, 6])\n",
    "circuit.append(\"H\", [0, 3, 6])\n",
    "circuit.append(\"CNOT\", [0, 1])\n",
    "circuit.append(\"CNOT\", [3, 4])\n",
    "circuit.append(\"CNOT\", [6, 7])\n",
    "circuit.append(\"CNOT\", [0, 2])\n",
    "circuit.append(\"CNOT\", [3, 5])\n",
    "circuit.append(\"CNOT\", [6, 8])\n",
    "\n",
    "# Show circuit diagram as SVG\n",
    "SVG(str(circuit.diagram(\"timeline\")))"
   ]
  }
 ],
 "metadata": {
  "kernelspec": {
   "display_name": "Python 3",
   "language": "python",
   "name": "python3"
  },
  "language_info": {
   "codemirror_mode": {
    "name": "ipython",
    "version": 3
   },
   "file_extension": ".py",
   "mimetype": "text/x-python",
   "name": "python",
   "nbconvert_exporter": "python",
   "pygments_lexer": "ipython3",
   "version": "3.11.9"
  }
 },
 "nbformat": 4,
 "nbformat_minor": 5
}
