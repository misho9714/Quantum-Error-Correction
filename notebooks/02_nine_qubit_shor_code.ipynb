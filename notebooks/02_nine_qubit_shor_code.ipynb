{
 "cells": [
  {
   "cell_type": "code",
   "execution_count": 1,
   "id": "5637351b",
   "metadata": {},
   "outputs": [
    {
     "data": {
      "image/svg+xml": [
       "<svg xmlns=\"http://www.w3.org/2000/svg\" viewBox=\"0 0 608 416\" version=\"1.1\">\n",
       "<g id=\"qubit_lines\">\n",
       "<path id=\"qubit_line:0\" d=\"M64,64 L576,64 \" stroke=\"black\"/>\n",
       "<text dominant-baseline=\"central\" text-anchor=\"end\" font-family=\"monospace\" font-size=\"12\" x=\"64\" y=\"64\">q0</text>\n",
       "<path id=\"qubit_line:1\" d=\"M64,128 L576,128 \" stroke=\"black\"/>\n",
       "<text dominant-baseline=\"central\" text-anchor=\"end\" font-family=\"monospace\" font-size=\"12\" x=\"64\" y=\"128\">q1</text>\n",
       "<path id=\"qubit_line:2\" d=\"M64,192 L576,192 \" stroke=\"black\"/>\n",
       "<text dominant-baseline=\"central\" text-anchor=\"end\" font-family=\"monospace\" font-size=\"12\" x=\"64\" y=\"192\">q2</text>\n",
       "<path id=\"qubit_line:3\" d=\"M64,256 L576,256 \" stroke=\"black\"/>\n",
       "<text dominant-baseline=\"central\" text-anchor=\"end\" font-family=\"monospace\" font-size=\"12\" x=\"64\" y=\"256\">q3</text>\n",
       "<path id=\"qubit_line:4\" d=\"M64,320 L576,320 \" stroke=\"black\"/>\n",
       "<text dominant-baseline=\"central\" text-anchor=\"end\" font-family=\"monospace\" font-size=\"12\" x=\"64\" y=\"320\">q4</text>\n",
       "</g>\n",
       "<path d=\"M96,64 L96,128 \" stroke=\"black\"/>\n",
       "<circle cx=\"96\" cy=\"64\" r=\"12\" stroke=\"none\" fill=\"black\"/>\n",
       "<circle cx=\"96\" cy=\"128\" r=\"12\" stroke=\"black\" fill=\"white\"/>\n",
       "<path d=\"M84,128 L108,128 M96,116 L96,140 \" stroke=\"black\"/>\n",
       "<path d=\"M160,64 L160,192 \" stroke=\"black\"/>\n",
       "<circle cx=\"160\" cy=\"64\" r=\"12\" stroke=\"none\" fill=\"black\"/>\n",
       "<circle cx=\"160\" cy=\"192\" r=\"12\" stroke=\"black\" fill=\"white\"/>\n",
       "<path d=\"M148,192 L172,192 M160,180 L160,204 \" stroke=\"black\"/>\n",
       "<rect x=\"208\" y=\"48\" width=\"32\" height=\"32\" stroke=\"black\" fill=\"pink\"/>\n",
       "<text dominant-baseline=\"central\" text-anchor=\"middle\" font-family=\"monospace\" font-size=\"12\" x=\"224\" y=\"64\">ERR<tspan baseline-shift=\"sub\" font-size=\"10\">X</tspan></text>\n",
       "<text dominant-baseline=\"hanging\" text-anchor=\"middle\" font-family=\"monospace\" font-size=\"10\" stroke=\"red\" x=\"224\" y=\"84\">0.3</text>\n",
       "<rect x=\"208\" y=\"112\" width=\"32\" height=\"32\" stroke=\"black\" fill=\"pink\"/>\n",
       "<text dominant-baseline=\"central\" text-anchor=\"middle\" font-family=\"monospace\" font-size=\"12\" x=\"224\" y=\"128\">ERR<tspan baseline-shift=\"sub\" font-size=\"10\">X</tspan></text>\n",
       "<text dominant-baseline=\"hanging\" text-anchor=\"middle\" font-family=\"monospace\" font-size=\"10\" stroke=\"red\" x=\"224\" y=\"148\">0.3</text>\n",
       "<rect x=\"208\" y=\"176\" width=\"32\" height=\"32\" stroke=\"black\" fill=\"pink\"/>\n",
       "<text dominant-baseline=\"central\" text-anchor=\"middle\" font-family=\"monospace\" font-size=\"12\" x=\"224\" y=\"192\">ERR<tspan baseline-shift=\"sub\" font-size=\"10\">X</tspan></text>\n",
       "<text dominant-baseline=\"hanging\" text-anchor=\"middle\" font-family=\"monospace\" font-size=\"10\" stroke=\"red\" x=\"224\" y=\"212\">0.3</text>\n",
       "<path d=\"M288,64 L288,256 \" stroke=\"black\"/>\n",
       "<circle cx=\"288\" cy=\"64\" r=\"12\" stroke=\"none\" fill=\"black\"/>\n",
       "<circle cx=\"288\" cy=\"256\" r=\"12\" stroke=\"black\" fill=\"white\"/>\n",
       "<path d=\"M276,256 L300,256 M288,244 L288,268 \" stroke=\"black\"/>\n",
       "<path d=\"M352,128 L352,256 \" stroke=\"black\"/>\n",
       "<circle cx=\"352\" cy=\"128\" r=\"12\" stroke=\"none\" fill=\"black\"/>\n",
       "<circle cx=\"352\" cy=\"256\" r=\"12\" stroke=\"black\" fill=\"white\"/>\n",
       "<path d=\"M340,256 L364,256 M352,244 L352,268 \" stroke=\"black\"/>\n",
       "<path d=\"M416,128 L416,320 \" stroke=\"black\"/>\n",
       "<circle cx=\"416\" cy=\"128\" r=\"12\" stroke=\"none\" fill=\"black\"/>\n",
       "<circle cx=\"416\" cy=\"320\" r=\"12\" stroke=\"black\" fill=\"white\"/>\n",
       "<path d=\"M404,320 L428,320 M416,308 L416,332 \" stroke=\"black\"/>\n",
       "<path d=\"M480,192 L480,320 \" stroke=\"black\"/>\n",
       "<circle cx=\"480\" cy=\"192\" r=\"12\" stroke=\"none\" fill=\"black\"/>\n",
       "<circle cx=\"480\" cy=\"320\" r=\"12\" stroke=\"black\" fill=\"white\"/>\n",
       "<path d=\"M468,320 L492,320 M480,308 L480,332 \" stroke=\"black\"/>\n",
       "<rect x=\"528\" y=\"240\" width=\"32\" height=\"32\" stroke=\"black\" fill=\"black\"/>\n",
       "<text dominant-baseline=\"central\" text-anchor=\"middle\" font-family=\"monospace\" font-size=\"30\" x=\"544\" y=\"256\" fill=\"white\">M</text>\n",
       "<text text-anchor=\"middle\" font-family=\"monospace\" font-size=\"8\" x=\"544\" y=\"236\">rec[0]</text>\n",
       "<rect x=\"528\" y=\"304\" width=\"32\" height=\"32\" stroke=\"black\" fill=\"black\"/>\n",
       "<text dominant-baseline=\"central\" text-anchor=\"middle\" font-family=\"monospace\" font-size=\"30\" x=\"544\" y=\"320\" fill=\"white\">M</text>\n",
       "<text text-anchor=\"middle\" font-family=\"monospace\" font-size=\"8\" x=\"544\" y=\"300\">rec[1]</text>\n",
       "<rect x=\"528\" y=\"48\" width=\"32\" height=\"32\" stroke=\"black\" fill=\"black\"/>\n",
       "<text dominant-baseline=\"central\" text-anchor=\"middle\" font-family=\"monospace\" font-size=\"30\" x=\"544\" y=\"64\" fill=\"white\">M</text>\n",
       "<text text-anchor=\"middle\" font-family=\"monospace\" font-size=\"8\" x=\"544\" y=\"44\">rec[2]</text>\n",
       "<rect x=\"528\" y=\"112\" width=\"32\" height=\"32\" stroke=\"black\" fill=\"black\"/>\n",
       "<text dominant-baseline=\"central\" text-anchor=\"middle\" font-family=\"monospace\" font-size=\"30\" x=\"544\" y=\"128\" fill=\"white\">M</text>\n",
       "<text text-anchor=\"middle\" font-family=\"monospace\" font-size=\"8\" x=\"544\" y=\"108\">rec[3]</text>\n",
       "<rect x=\"528\" y=\"176\" width=\"32\" height=\"32\" stroke=\"black\" fill=\"black\"/>\n",
       "<text dominant-baseline=\"central\" text-anchor=\"middle\" font-family=\"monospace\" font-size=\"30\" x=\"544\" y=\"192\" fill=\"white\">M</text>\n",
       "<text text-anchor=\"middle\" font-family=\"monospace\" font-size=\"8\" x=\"544\" y=\"172\">rec[4]</text>\n",
       "</svg>"
      ],
      "text/plain": [
       "<IPython.core.display.SVG object>"
      ]
     },
     "execution_count": 1,
     "metadata": {},
     "output_type": "execute_result"
    }
   ],
   "source": [
    "import stim\n",
    "import pymatching as pm\n",
    "import numpy as np\n",
    "from IPython.display import SVG, display, Math\n",
    "import matplotlib.pyplot as plt\n",
    "from typing import Counter\n",
    "import sys, os; sys.path.append(os.path.abspath(\"..\"))\n",
    "\n",
    "# --- Parameters ---\n",
    "chance = 0.3\n",
    "\n",
    "# --- Build circuit (|0_L> for the 3-qubit repetition code) ---\n",
    "circuit = stim.Circuit()\n",
    "circuit.append(\"CNOT\", [0, 1])         # encode: copy data 0 -> 1,2\n",
    "circuit.append(\"CNOT\", [0, 2])\n",
    "\n",
    "# noise on data qubits (after encoding)\n",
    "circuit.append(\"X_ERROR\", [0, 1, 2], chance)\n",
    "\n",
    "# parity checks onto ancillas q3 (for 0⊕1) and q4 (for 1⊕2)\n",
    "circuit.append(\"CNOT\", [0, 3])\n",
    "circuit.append(\"CNOT\", [1, 3])\n",
    "circuit.append(\"CNOT\", [1, 4])\n",
    "circuit.append(\"CNOT\", [2, 4])\n",
    "\n",
    "# measure all qubits\n",
    "circuit.append(\"M\", [3,4,0,1,2])\n",
    "\n",
    "# Show circuit diagram as SVG\n",
    "SVG(str(circuit.diagram(\"timeline\")))"
   ]
  }
 ],
 "metadata": {
  "kernelspec": {
   "display_name": "Python 3",
   "language": "python",
   "name": "python3"
  },
  "language_info": {
   "codemirror_mode": {
    "name": "ipython",
    "version": 3
   },
   "file_extension": ".py",
   "mimetype": "text/x-python",
   "name": "python",
   "nbconvert_exporter": "python",
   "pygments_lexer": "ipython3",
   "version": "3.11.9"
  }
 },
 "nbformat": 4,
 "nbformat_minor": 5
}
