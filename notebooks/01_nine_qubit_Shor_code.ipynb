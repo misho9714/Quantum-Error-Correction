{
 "cells": [
  {
   "cell_type": "code",
   "execution_count": 1,
   "id": "da2f51f5",
   "metadata": {},
   "outputs": [
    {
     "ename": "AttributeError",
     "evalue": "'stim._stim_sse2.Circuit' object has no attribute 'compile_observable_sampler'",
     "output_type": "error",
     "traceback": [
      "\u001b[31m---------------------------------------------------------------------------\u001b[39m",
      "\u001b[31mAttributeError\u001b[39m                            Traceback (most recent call last)",
      "\u001b[36mCell\u001b[39m\u001b[36m \u001b[39m\u001b[32mIn[1]\u001b[39m\u001b[32m, line 55\u001b[39m\n\u001b[32m     53\u001b[39m shots = \u001b[32m10000\u001b[39m\n\u001b[32m     54\u001b[39m det_samp = c.compile_detector_sampler().sample(shots=shots)\n\u001b[32m---> \u001b[39m\u001b[32m55\u001b[39m obs_samp = \u001b[43mc\u001b[49m\u001b[43m.\u001b[49m\u001b[43mcompile_observable_sampler\u001b[49m().sample(shots=shots)\n\u001b[32m     57\u001b[39m \u001b[38;5;28mprint\u001b[39m(c)  \u001b[38;5;66;03m# show the circuit\u001b[39;00m\n\u001b[32m     58\u001b[39m \u001b[38;5;28mprint\u001b[39m(\u001b[33m\"\u001b[39m\u001b[33mDetector samples shape:\u001b[39m\u001b[33m\"\u001b[39m, det_samp.shape)  \u001b[38;5;66;03m# (shots, 8 stabilizers)\u001b[39;00m\n",
      "\u001b[31mAttributeError\u001b[39m: 'stim._stim_sse2.Circuit' object has no attribute 'compile_observable_sampler'"
     ]
    }
   ],
   "source": [
    "import stim\n",
    "\n",
    "# 9-qubit Shor code: blocks [0,1,2], [3,4,5], [6,7,8]\n",
    "# This prepares |0_L>, applies DEPOLARIZE1(0.02) right after init,\n",
    "# then measures all stabilizers and the logical Z.\n",
    "\n",
    "c = stim.Circuit(\"\"\"\n",
    "# --- Initialize physical qubits to |0> ---\n",
    "R 0 1 2 3 4 5 6 7 8\n",
    "\n",
    "# --- Encode |0_L> ---\n",
    "# Create GHZ within each of the 3 blocks: (|000>+|111>)/sqrt(2)\n",
    "H 0 3 6\n",
    "CNOT 0 1\n",
    "CNOT 0 2\n",
    "CNOT 3 4\n",
    "CNOT 3 5\n",
    "CNOT 6 7\n",
    "CNOT 6 8\n",
    "\n",
    "# --- Error layer right after initialization (of the logical state) ---\n",
    "DEPOLARIZE1(0.02) 0 1 2 3 4 5 6 7 8\n",
    "\n",
    "# --- Measure Z-type stabilizers (within each 3-qubit block) ---\n",
    "# Block 1\n",
    "MPP Z0*Z1\n",
    "DETECTOR rec[-1]\n",
    "MPP Z1*Z2\n",
    "DETECTOR rec[-1]\n",
    "# Block 2\n",
    "MPP Z3*Z4\n",
    "DETECTOR rec[-1]\n",
    "MPP Z4*Z5\n",
    "DETECTOR rec[-1]\n",
    "# Block 3\n",
    "MPP Z6*Z7\n",
    "DETECTOR rec[-1]\n",
    "MPP Z7*Z8\n",
    "DETECTOR rec[-1]\n",
    "\n",
    "# --- Measure X-type stabilizers (across blocks) ---\n",
    "MPP X0*X1*X2*X3*X4*X5\n",
    "DETECTOR rec[-1]\n",
    "MPP X3*X4*X5*X6*X7*X8\n",
    "DETECTOR rec[-1]\n",
    "\n",
    "# --- Logical Z readout ---\n",
    "MPP Z0*Z3*Z6\n",
    "OBSERVABLE_INCLUDE(0) rec[-1]\n",
    "\"\"\")\n",
    "\n",
    "# Example: sample detection events and the logical observable.\n",
    "shots = 10000\n",
    "det_samp = c.compile_detector_sampler().sample(shots=shots)\n",
    "obs_samp = c.compile_observable_sampler().sample(shots=shots)\n",
    "\n",
    "print(c)  # show the circuit\n",
    "print(\"Detector samples shape:\", det_samp.shape)  # (shots, 8 stabilizers)\n",
    "print(\"Observable samples shape:\", obs_samp.shape)  # (shots, 1 logical Z)\n",
    "print(\"Logical Z error rate estimate:\", obs_samp.mean())\n"
   ]
  }
 ],
 "metadata": {
  "kernelspec": {
   "display_name": "Python 3",
   "language": "python",
   "name": "python3"
  },
  "language_info": {
   "codemirror_mode": {
    "name": "ipython",
    "version": 3
   },
   "file_extension": ".py",
   "mimetype": "text/x-python",
   "name": "python",
   "nbconvert_exporter": "python",
   "pygments_lexer": "ipython3",
   "version": "3.11.9"
  }
 },
 "nbformat": 4,
 "nbformat_minor": 5
}
